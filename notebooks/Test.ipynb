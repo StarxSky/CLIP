{
 "cells": [
  {
   "cell_type": "markdown",
   "metadata": {},
   "source": [
    "# Imports"
   ]
  },
  {
   "cell_type": "code",
   "execution_count": 1,
   "metadata": {},
   "outputs": [
    {
     "name": "stdout",
     "output_type": "stream",
     "text": [
      "==========Device INFO==========\n",
      "PyTorch Version :1.12.1+cpu\n",
      "Device :cpu\n",
      "===============================\n"
     ]
    },
    {
     "name": "stderr",
     "output_type": "stream",
     "text": [
      "c:\\Program Files\\Anaconda\\envs\\ML\\lib\\site-packages\\clip\\__init__.py:27: UserWarning: This PyTorch version 1.12.1 or higher is Support Metal GPU Boost!\n",
      "  warnings.warn(\"This PyTorch version 1.12.1 or higher is Support Metal GPU Boost!\")\n"
     ]
    },
    {
     "name": "stdout",
     "output_type": "stream",
     "text": [
      "CLIP Version(PyTorch) :1.12.1+cpu\n",
      "Device :cpu\n"
     ]
    }
   ],
   "source": [
    "import os \n",
    "import clip\n",
    "import torch \n",
    "import numpy as np \n",
    "import matplotlib.pyplot as plt\n",
    "\n",
    "\n",
    "from torch.backends import mps\n",
    "from torchvision.datasets import CIFAR100\n",
    "\n",
    "# device\n",
    "if mps.is_available() :\n",
    "    device = torch.device('mps')\n",
    "\n",
    "elif torch.cuda.is_available() :\n",
    "    device = torch.device('cuda')\n",
    "\n",
    "else :\n",
    "    device = torch.device('cpu')\n",
    "\n",
    "print(f'CLIP Version(PyTorch) :{clip.version}')\n",
    "print(f'Device :{device}')\n",
    "\n",
    "# Load models\n",
    "model, preprocess = clip.load(name='ViT-B/32', device=device, download_root='./Pre_Models/')"
   ]
  },
  {
   "cell_type": "markdown",
   "metadata": {},
   "source": [
    "# Dataset Download "
   ]
  },
  {
   "cell_type": "code",
   "execution_count": 2,
   "metadata": {},
   "outputs": [
    {
     "data": {
      "text/plain": [
       "Compose(\n",
       "    Resize(size=224, interpolation=bicubic, max_size=None, antialias=None)\n",
       "    CenterCrop(size=(224, 224))\n",
       "    <function _convert_image_to_rgb at 0x0000020B8D419160>\n",
       "    ToTensor()\n",
       "    Normalize(mean=(0.48145466, 0.4578275, 0.40821073), std=(0.26862954, 0.26130258, 0.27577711))\n",
       ")"
      ]
     },
     "execution_count": 2,
     "metadata": {},
     "output_type": "execute_result"
    }
   ],
   "source": [
    "preprocess"
   ]
  },
  {
   "cell_type": "code",
   "execution_count": 3,
   "metadata": {},
   "outputs": [
    {
     "name": "stdout",
     "output_type": "stream",
     "text": [
      "Files already downloaded and verified\n"
     ]
    }
   ],
   "source": [
    "# Download the dataset\n",
    "cifar100 = CIFAR100(root=os.path.expanduser(\"~/.cache\"), download=True, train=False)"
   ]
  },
  {
   "cell_type": "markdown",
   "metadata": {},
   "source": [
    "# Processed"
   ]
  },
  {
   "cell_type": "code",
   "execution_count": 4,
   "metadata": {},
   "outputs": [
    {
     "name": "stdout",
     "output_type": "stream",
     "text": [
      "Image Type :<class 'PIL.Image.Image'>\n",
      "Image_inputs Shape :torch.Size([1, 3, 224, 224])\n",
      "Text_inputs Shape :torch.Size([100, 77])\n"
     ]
    }
   ],
   "source": [
    "# Prepare the inputs\n",
    "image, class_id = cifar100[0]\n",
    "print(f'Image Type :{type(image)}')\n",
    "\n",
    "\n",
    "\n",
    "image_input = preprocess(image).unsqueeze(0).to(device) # processed image\n",
    "text_inputs = torch.cat([clip.tokenize(f\"a photo of a {c}\") for c in cifar100.classes]).to(device) # processed texts\n",
    "\n",
    "\n",
    "print(f'Image_inputs Shape :{image_input.shape}')\n",
    "print(f'Text_inputs Shape :{text_inputs.shape}')"
   ]
  },
  {
   "cell_type": "code",
   "execution_count": 5,
   "metadata": {},
   "outputs": [
    {
     "data": {
      "image/png": "[encoded data removed]",
      "text/plain": [
       "<Figure size 432x288 with 1 Axes>"
      ]
     },
     "metadata": {
      "needs_background": "light"
     },
     "output_type": "display_data"
    }
   ],
   "source": [
    "plt.imshow(image)\n",
    "plt.show()"
   ]
  },
  {
   "cell_type": "markdown",
   "metadata": {},
   "source": [
    "# Text Preprocessing\n",
    "\n",
    "We use a case-insensitive tokenizer, which can be invoked using `clip.tokenize()`. By default, the outputs are padded to become 77 tokens long, which is what the CLIP models expects."
   ]
  },
  {
   "cell_type": "code",
   "execution_count": 6,
   "metadata": {},
   "outputs": [
    {
     "data": {
      "text/plain": [
       "tensor([[49406,  3306,  1002,   256, 49407,     0,     0,     0,     0,     0,\n",
       "             0,     0,     0,     0,     0,     0,     0,     0,     0,     0,\n",
       "             0,     0,     0,     0,     0,     0,     0,     0,     0,     0,\n",
       "             0,     0,     0,     0,     0,     0,     0,     0,     0,     0,\n",
       "             0,     0,     0,     0,     0,     0,     0,     0,     0,     0,\n",
       "             0,     0,     0,     0,     0,     0,     0,     0,     0,     0,\n",
       "             0,     0,     0,     0,     0,     0,     0,     0,     0,     0,\n",
       "             0,     0,     0,     0,     0,     0,     0]], dtype=torch.int32)"
      ]
     },
     "execution_count": 6,
     "metadata": {},
     "output_type": "execute_result"
    }
   ],
   "source": [
    "clip.tokenize('Hello world!')"
   ]
  },
  {
   "cell_type": "markdown",
   "metadata": {},
   "source": [
    "# View the output of putting image & text data into the model"
   ]
  },
  {
   "cell_type": "code",
   "execution_count": 7,
   "metadata": {},
   "outputs": [
    {
     "name": "stdout",
     "output_type": "stream",
     "text": [
      "Image Features Shape :torch.Size([1, 512])\n",
      "Text Features Shape :torch.Size([100, 512])\n"
     ]
    }
   ],
   "source": [
    "# Calculate features\n",
    "\n",
    "with torch.no_grad():\n",
    "    image_features = model.encode_image(image_input)\n",
    "    text_features = model.encode_text(text_inputs)\n",
    "\n",
    "print(f'Image Features Shape :{image_features.shape}')\n",
    "print(f'Text Features Shape :{text_features.shape}')"
   ]
  },
  {
   "cell_type": "markdown",
   "metadata": {},
   "source": [
    "# Prediction"
   ]
  },
  {
   "cell_type": "code",
   "execution_count": 18,
   "metadata": {},
   "outputs": [
    {
     "name": "stdout",
     "output_type": "stream",
     "text": [
      "logits_per_image shape:  torch.Size([1, 100])\n",
      "logits_per_text shape:  torch.Size([100, 1])\n",
      "预测的图像的信息的大小 :(1, 100)\n"
     ]
    }
   ],
   "source": [
    "with torch.no_grad():\n",
    "    Image_P, logits_per_text = model(image_input, text_inputs)\n",
    "\n",
    "    P_Image = Image_P.softmax(dim=-1).cpu().numpy()\n",
    "\n",
    "print(f'预测的图像的信息的大小 :{P_Image.shape}')"
   ]
  },
  {
   "cell_type": "markdown",
   "metadata": {},
   "source": [
    "# 分析"
   ]
  },
  {
   "cell_type": "code",
   "execution_count": 23,
   "metadata": {},
   "outputs": [
    {
     "name": "stdout",
     "output_type": "stream",
     "text": [
      "logits_per_image shape:  torch.Size([1, 100])\n",
      "logits_per_text shape:  torch.Size([100, 1])\n"
     ]
    }
   ],
   "source": [
    "# 将图像-文本送入网络\n",
    "with torch.no_grad():\n",
    "    image_features = model.encode_image(image_input)\n",
    "    text_features = model.encode_text(text_inputs)\n",
    "\n",
    "# 计算余弦相似度\n",
    "image_features /= image_features.norm(dim=1, keepdim=True)\n",
    "text_features /= text_features.norm(dim=1, keepdim=True)\n",
    "similarity = image_features @ text_features.T\n",
    "\n",
    "\n",
    "print(f'logits_per_image shape:  {similarity.shape}') # 图像\n",
    "print(f'logits_per_text shape:  {similarity.T.shape}') # 文本"
   ]
  },
  {
   "cell_type": "markdown",
   "metadata": {},
   "source": [
    "### 上方的计算实际上是CLIP模型的forward的计算过程（等同于下方的代码）\n",
    "* `similarity` = `Image_P`\n",
    "* `similarity` 的转置 = `logits_per_text`"
   ]
  },
  {
   "cell_type": "code",
   "execution_count": 22,
   "metadata": {},
   "outputs": [
    {
     "name": "stdout",
     "output_type": "stream",
     "text": [
      "logits_per_image shape:  torch.Size([1, 100])\n",
      "logits_per_text shape:  torch.Size([100, 1])\n"
     ]
    }
   ],
   "source": [
    "with torch.no_grad():\n",
    "    Image_P, logits_per_text = model(image_input, text_inputs)"
   ]
  },
  {
   "cell_type": "markdown",
   "metadata": {},
   "source": [
    "### 模型的计算过程\n",
    "```python\n",
    "def forward(self, image, text):\n",
    "        image_features = self.encode_image(image)\n",
    "        text_features = self.encode_text(text)\n",
    "\n",
    "        # normalized features\n",
    "        image_features = image_features / image_features.norm(dim=1, keepdim=True)\n",
    "        text_features = text_features / text_features.norm(dim=1, keepdim=True)# <<<<====这里的shape[batch, text_nums]\n",
    "\n",
    "        # cosine similarity as logits\n",
    "        logit_scale = self.logit_scale.exp()\n",
    "        logits_per_image = logit_scale * image_features @ text_features.t()# <<<<====将图像特征和文本特征(已经转置)相乘\n",
    "        #\n",
    "        print(f'logits_per_image shape:  {logits_per_image.shape}')\n",
    "        logits_per_text = logits_per_image.t() # <<<<====这里将图像的预测结果进行转置得出文本的预测信息\n",
    "        #\n",
    "        print(f'logits_per_text shape:  {logits_per_text.shape}') \n",
    "\n",
    "        # shape = [global_batch_size, global_batch_size]\n",
    "        return logits_per_image, logits_per_text\n",
    "```"
   ]
  }
 ],
 "metadata": {
  "kernelspec": {
   "display_name": "Python 3.9.0 ('ML')",
   "language": "python",
   "name": "python3"
  },
  "language_info": {
   "codemirror_mode": {
    "name": "ipython",
    "version": 3
   },
   "file_extension": ".py",
   "mimetype": "text/x-python",
   "name": "python",
   "nbconvert_exporter": "python",
   "pygments_lexer": "ipython3",
   "version": "3.9.0"
  },
  "orig_nbformat": 4,
  "vscode": {
   "interpreter": {
    "hash": "52b219f090789875c5d110bd153026c117ac01241b392d55f0c32bcdd920e7c6"
   }
  }
 },
 "nbformat": 4,
 "nbformat_minor": 2
}
